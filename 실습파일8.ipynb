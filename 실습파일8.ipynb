{
  "nbformat": 4,
  "nbformat_minor": 0,
  "metadata": {
    "colab": {
      "provenance": []
    },
    "kernelspec": {
      "name": "python3",
      "display_name": "Python 3"
    },
    "language_info": {
      "name": "python"
    }
  },
  "cells": [
    {
      "cell_type": "code",
      "execution_count": 1,
      "metadata": {
        "colab": {
          "base_uri": "https://localhost:8080/"
        },
        "id": "odvfoydHLuZP",
        "outputId": "bc94d25b-2548-4fdb-86c0-36b9a5be57ba"
      },
      "outputs": [
        {
          "output_type": "execute_result",
          "data": {
            "text/plain": [
              "[1, 2, 3, 4]"
            ]
          },
          "metadata": {},
          "execution_count": 1
        }
      ],
      "source": [
        "#예제1\n",
        "a = [1,2,3]\n",
        "b=a\n",
        "a.append(4)\n",
        "b"
      ]
    },
    {
      "cell_type": "code",
      "source": [
        "#예제2\n",
        "class Gizmo:\n",
        "    def __init__(self):\n",
        "        print('Gizmo id: %d' %id(self))\n",
        "\n",
        "x = Gizmo()"
      ],
      "metadata": {
        "colab": {
          "base_uri": "https://localhost:8080/"
        },
        "id": "oHJUOpd0L9e0",
        "outputId": "f84a8872-8742-495e-dfe1-6773fcde217d"
      },
      "execution_count": 6,
      "outputs": [
        {
          "output_type": "stream",
          "name": "stdout",
          "text": [
            "Gizmo id: 138669476216160\n"
          ]
        }
      ]
    },
    {
      "cell_type": "code",
      "source": [
        "y = Gizmo() * 10"
      ],
      "metadata": {
        "colab": {
          "base_uri": "https://localhost:8080/",
          "height": 164
        },
        "id": "OYBFbT2dMXVp",
        "outputId": "3f7a7f95-709a-4325-a81c-92b75717d5c6"
      },
      "execution_count": 7,
      "outputs": [
        {
          "output_type": "stream",
          "name": "stdout",
          "text": [
            "Gizmo id: 138669476212752\n"
          ]
        },
        {
          "output_type": "error",
          "ename": "TypeError",
          "evalue": "unsupported operand type(s) for *: 'Gizmo' and 'int'",
          "traceback": [
            "\u001b[0;31m---------------------------------------------------------------------------\u001b[0m",
            "\u001b[0;31mTypeError\u001b[0m                                 Traceback (most recent call last)",
            "\u001b[0;32m<ipython-input-7-2beac7b9470d>\u001b[0m in \u001b[0;36m<cell line: 1>\u001b[0;34m()\u001b[0m\n\u001b[0;32m----> 1\u001b[0;31m \u001b[0my\u001b[0m \u001b[0;34m=\u001b[0m \u001b[0mGizmo\u001b[0m\u001b[0;34m(\u001b[0m\u001b[0;34m)\u001b[0m \u001b[0;34m*\u001b[0m \u001b[0;36m10\u001b[0m\u001b[0;34m\u001b[0m\u001b[0;34m\u001b[0m\u001b[0m\n\u001b[0m",
            "\u001b[0;31mTypeError\u001b[0m: unsupported operand type(s) for *: 'Gizmo' and 'int'"
          ]
        }
      ]
    },
    {
      "cell_type": "code",
      "source": [
        "dir()"
      ],
      "metadata": {
        "colab": {
          "base_uri": "https://localhost:8080/"
        },
        "id": "SjK_2tM1MfMi",
        "outputId": "8e99da9e-c7fb-42a6-958c-493b5acf057f"
      },
      "execution_count": 8,
      "outputs": [
        {
          "output_type": "execute_result",
          "data": {
            "text/plain": [
              "['Gizmo',\n",
              " 'In',\n",
              " 'Out',\n",
              " '_',\n",
              " '_1',\n",
              " '__',\n",
              " '___',\n",
              " '__builtin__',\n",
              " '__builtins__',\n",
              " '__doc__',\n",
              " '__loader__',\n",
              " '__name__',\n",
              " '__package__',\n",
              " '__spec__',\n",
              " '_dh',\n",
              " '_i',\n",
              " '_i1',\n",
              " '_i2',\n",
              " '_i3',\n",
              " '_i4',\n",
              " '_i5',\n",
              " '_i6',\n",
              " '_i7',\n",
              " '_i8',\n",
              " '_ih',\n",
              " '_ii',\n",
              " '_iii',\n",
              " '_oh',\n",
              " 'a',\n",
              " 'b',\n",
              " 'exit',\n",
              " 'get_ipython',\n",
              " 'quit',\n",
              " 'x']"
            ]
          },
          "metadata": {},
          "execution_count": 8
        }
      ]
    },
    {
      "cell_type": "code",
      "source": [
        "#에제3\n",
        "charles = {'name' : 'Charles L. Dodgson', 'born':1832}\n",
        "lewis = charles\n",
        "lewis is charles"
      ],
      "metadata": {
        "colab": {
          "base_uri": "https://localhost:8080/"
        },
        "id": "j358bg9rMiKH",
        "outputId": "8613f707-8e54-4126-a12b-f595eb3c8472"
      },
      "execution_count": 9,
      "outputs": [
        {
          "output_type": "execute_result",
          "data": {
            "text/plain": [
              "True"
            ]
          },
          "metadata": {},
          "execution_count": 9
        }
      ]
    },
    {
      "cell_type": "code",
      "source": [
        "id(charles), id(lewis)"
      ],
      "metadata": {
        "colab": {
          "base_uri": "https://localhost:8080/"
        },
        "id": "CNLnpicdMwuV",
        "outputId": "04e21722-83f1-4764-d1d5-989d58e79c46"
      },
      "execution_count": 10,
      "outputs": [
        {
          "output_type": "execute_result",
          "data": {
            "text/plain": [
              "(138670371023232, 138670371023232)"
            ]
          },
          "metadata": {},
          "execution_count": 10
        }
      ]
    },
    {
      "cell_type": "code",
      "source": [
        "lewis['balance'] = 950\n",
        "charles"
      ],
      "metadata": {
        "colab": {
          "base_uri": "https://localhost:8080/"
        },
        "id": "uo1WITLIM1u2",
        "outputId": "a9fa82e8-2711-47fb-d529-25c83ca95fd8"
      },
      "execution_count": 11,
      "outputs": [
        {
          "output_type": "execute_result",
          "data": {
            "text/plain": [
              "{'name': 'Charles L. Dodgson', 'born': 1832, 'balance': 950}"
            ]
          },
          "metadata": {},
          "execution_count": 11
        }
      ]
    },
    {
      "cell_type": "code",
      "source": [
        "#예제4\n",
        "alex = {'name' : 'Charles L. Dodgson', 'born':1832, 'balance':950}\n",
        "alex == charles"
      ],
      "metadata": {
        "colab": {
          "base_uri": "https://localhost:8080/"
        },
        "id": "80GMTNh9M8Pr",
        "outputId": "22fa4fc8-3593-4dab-bf24-711e311ea838"
      },
      "execution_count": 12,
      "outputs": [
        {
          "output_type": "execute_result",
          "data": {
            "text/plain": [
              "True"
            ]
          },
          "metadata": {},
          "execution_count": 12
        }
      ]
    },
    {
      "cell_type": "code",
      "source": [
        "alex is charles"
      ],
      "metadata": {
        "colab": {
          "base_uri": "https://localhost:8080/"
        },
        "id": "Xi4Kl_apM_sG",
        "outputId": "943c356e-2dcb-49b3-f9b1-383a86342ba8"
      },
      "execution_count": 13,
      "outputs": [
        {
          "output_type": "execute_result",
          "data": {
            "text/plain": [
              "False"
            ]
          },
          "metadata": {},
          "execution_count": 13
        }
      ]
    },
    {
      "cell_type": "code",
      "source": [
        "#예제5\n",
        "t1 = (1,2,[30,40])\n",
        "t2 = (1,2,[30,40])\n",
        "t1 == t2, t1 is t2"
      ],
      "metadata": {
        "colab": {
          "base_uri": "https://localhost:8080/"
        },
        "id": "HYaQ1JySNCNd",
        "outputId": "bac25d8d-3be0-46cb-80a3-26117a527a89"
      },
      "execution_count": 14,
      "outputs": [
        {
          "output_type": "execute_result",
          "data": {
            "text/plain": [
              "(True, False)"
            ]
          },
          "metadata": {},
          "execution_count": 14
        }
      ]
    },
    {
      "cell_type": "code",
      "source": [
        "id(t1[-1])"
      ],
      "metadata": {
        "colab": {
          "base_uri": "https://localhost:8080/"
        },
        "id": "_yDbibA5NKuo",
        "outputId": "2881561b-bd0e-425d-a0e6-a79bbe94fc6a"
      },
      "execution_count": 15,
      "outputs": [
        {
          "output_type": "execute_result",
          "data": {
            "text/plain": [
              "138669471724544"
            ]
          },
          "metadata": {},
          "execution_count": 15
        }
      ]
    },
    {
      "cell_type": "code",
      "source": [
        "t1[-1].append(99)\n",
        "t1, id(t1[-1])"
      ],
      "metadata": {
        "colab": {
          "base_uri": "https://localhost:8080/"
        },
        "id": "_omCR_keNM2S",
        "outputId": "76c34a60-97b0-466f-f200-35a30246ffd2"
      },
      "execution_count": 16,
      "outputs": [
        {
          "output_type": "execute_result",
          "data": {
            "text/plain": [
              "((1, 2, [30, 40, 99]), 138669471724544)"
            ]
          },
          "metadata": {},
          "execution_count": 16
        }
      ]
    },
    {
      "cell_type": "code",
      "source": [
        "t1==t2"
      ],
      "metadata": {
        "colab": {
          "base_uri": "https://localhost:8080/"
        },
        "id": "8MMq26IJNRr2",
        "outputId": "bb1dc59d-1043-46fc-895c-44288b3012d8"
      },
      "execution_count": 17,
      "outputs": [
        {
          "output_type": "execute_result",
          "data": {
            "text/plain": [
              "False"
            ]
          },
          "metadata": {},
          "execution_count": 17
        }
      ]
    },
    {
      "cell_type": "code",
      "source": [
        "#예제6\n",
        "l1 = [3, [66, 55, 44], (7,8,9)]\n",
        "l2 = list(l1)"
      ],
      "metadata": {
        "id": "ca10ozGLNX5k"
      },
      "execution_count": 18,
      "outputs": []
    },
    {
      "cell_type": "code",
      "source": [
        "l1[1].remove(55)\n",
        "print('l1:',l1)\n",
        "print('l2:',l2)"
      ],
      "metadata": {
        "colab": {
          "base_uri": "https://localhost:8080/"
        },
        "id": "TpujyhhWNg4X",
        "outputId": "31f1af7d-a09a-4b3c-b48a-09dabd136972"
      },
      "execution_count": 19,
      "outputs": [
        {
          "output_type": "stream",
          "name": "stdout",
          "text": [
            "l1: [3, [66, 44], (7, 8, 9)]\n",
            "l2: [3, [66, 44], (7, 8, 9)]\n"
          ]
        }
      ]
    },
    {
      "cell_type": "code",
      "source": [
        "l2[1] += [33,22]\n",
        "l2[2] += (10,11)\n",
        "print('l1:',l1)\n",
        "print('l2:',l2)"
      ],
      "metadata": {
        "colab": {
          "base_uri": "https://localhost:8080/"
        },
        "id": "fR5Y4EsnNsGp",
        "outputId": "89b5e989-8a0c-4983-f8aa-da71d9e11947"
      },
      "execution_count": 20,
      "outputs": [
        {
          "output_type": "stream",
          "name": "stdout",
          "text": [
            "l1: [3, [66, 44, 33, 22], (7, 8, 9)]\n",
            "l2: [3, [66, 44, 33, 22], (7, 8, 9, 10, 11)]\n"
          ]
        }
      ]
    },
    {
      "cell_type": "code",
      "source": [
        "#예제7\n",
        "class Bus:\n",
        "    def __init__(self, passengers=None):\n",
        "        if passengers is None:\n",
        "            self.passengers = []\n",
        "        else:\n",
        "            self.passengers = list(passengers)\n",
        "\n",
        "    def pick(self, name):\n",
        "        self.passengers.append(name)\n",
        "\n",
        "    def drop(self, name):\n",
        "        self.passengers.remove(name)"
      ],
      "metadata": {
        "id": "wycMkT1gNsFv"
      },
      "execution_count": 21,
      "outputs": []
    },
    {
      "cell_type": "code",
      "source": [
        "#예제8\n",
        "import copy\n",
        "bus1 = Bus(['Alice', 'Bill', 'Claire', 'David'])\n",
        "bus2 = copy.copy(bus1)\n",
        "bus3 = copy.deepcopy(bus1)\n",
        "id(bus1), id(bus2), id(bus3)"
      ],
      "metadata": {
        "colab": {
          "base_uri": "https://localhost:8080/"
        },
        "id": "Gu321r1RN6ru",
        "outputId": "dcee4420-1e68-407d-8d9c-e6acec3bba15"
      },
      "execution_count": 22,
      "outputs": [
        {
          "output_type": "execute_result",
          "data": {
            "text/plain": [
              "(138669474431136, 138669473098544, 138669473097248)"
            ]
          },
          "metadata": {},
          "execution_count": 22
        }
      ]
    },
    {
      "cell_type": "code",
      "source": [
        "bus1.drop('Bill')\n",
        "bus1.passengers, bus2.passengers, bus3.passengers"
      ],
      "metadata": {
        "colab": {
          "base_uri": "https://localhost:8080/"
        },
        "id": "2zYO420qN-n2",
        "outputId": "8279b8b4-12e9-463a-d0fb-fec2a540d181"
      },
      "execution_count": 23,
      "outputs": [
        {
          "output_type": "execute_result",
          "data": {
            "text/plain": [
              "(['Alice', 'Claire', 'David'],\n",
              " ['Alice', 'Claire', 'David'],\n",
              " ['Alice', 'Bill', 'Claire', 'David'])"
            ]
          },
          "metadata": {},
          "execution_count": 23
        }
      ]
    },
    {
      "cell_type": "code",
      "source": [
        "id(bus1.passengers), id(bus2.passengers), id(bus3.passengers)"
      ],
      "metadata": {
        "colab": {
          "base_uri": "https://localhost:8080/"
        },
        "id": "Wdv6T3TjOE_5",
        "outputId": "678df3cc-9fb9-4709-e1b0-6f87630f974e"
      },
      "execution_count": 24,
      "outputs": [
        {
          "output_type": "execute_result",
          "data": {
            "text/plain": [
              "(138669470636608, 138669470636608, 138669470624128)"
            ]
          },
          "metadata": {},
          "execution_count": 24
        }
      ]
    },
    {
      "cell_type": "code",
      "source": [
        "#예제9\n",
        "a = [10,20]\n",
        "b = [a,30]\n",
        "a.append(b)\n",
        "a"
      ],
      "metadata": {
        "colab": {
          "base_uri": "https://localhost:8080/"
        },
        "id": "heAJhWCeOI4c",
        "outputId": "74e92f11-275c-4148-f770-0c502891fb54"
      },
      "execution_count": 25,
      "outputs": [
        {
          "output_type": "execute_result",
          "data": {
            "text/plain": [
              "[10, 20, [[...], 30]]"
            ]
          },
          "metadata": {},
          "execution_count": 25
        }
      ]
    },
    {
      "cell_type": "code",
      "source": [
        "c = copy.deepcopy(a)\n",
        "c"
      ],
      "metadata": {
        "colab": {
          "base_uri": "https://localhost:8080/"
        },
        "id": "-vCjiod-ONZz",
        "outputId": "8f85c99a-00cf-4ee1-c51b-86d794afb7e9"
      },
      "execution_count": 26,
      "outputs": [
        {
          "output_type": "execute_result",
          "data": {
            "text/plain": [
              "[10, 20, [[...], 30]]"
            ]
          },
          "metadata": {},
          "execution_count": 26
        }
      ]
    },
    {
      "cell_type": "code",
      "source": [
        "#예제10\n",
        "def f(a,b):\n",
        "    a += b\n",
        "    return a"
      ],
      "metadata": {
        "id": "Tqmqo6OUORmi"
      },
      "execution_count": 27,
      "outputs": []
    },
    {
      "cell_type": "code",
      "source": [
        "x = 1\n",
        "y = 2\n",
        "f(x,y), (x,y)"
      ],
      "metadata": {
        "colab": {
          "base_uri": "https://localhost:8080/"
        },
        "id": "255c_IpaOXj9",
        "outputId": "779ad112-f3be-41ae-ca2f-d7e3a4c8bb66"
      },
      "execution_count": 28,
      "outputs": [
        {
          "output_type": "execute_result",
          "data": {
            "text/plain": [
              "(3, (1, 2))"
            ]
          },
          "metadata": {},
          "execution_count": 28
        }
      ]
    },
    {
      "cell_type": "code",
      "source": [
        "a = [1,2]\n",
        "b = [3,4]\n",
        "f(a,b), (a,b)"
      ],
      "metadata": {
        "colab": {
          "base_uri": "https://localhost:8080/"
        },
        "id": "zXnrJQeMObQ7",
        "outputId": "1abb7a17-698a-45cd-8310-38e3b6b1079f"
      },
      "execution_count": 29,
      "outputs": [
        {
          "output_type": "execute_result",
          "data": {
            "text/plain": [
              "([1, 2, 3, 4], ([1, 2, 3, 4], [3, 4]))"
            ]
          },
          "metadata": {},
          "execution_count": 29
        }
      ]
    },
    {
      "cell_type": "code",
      "source": [
        "t = (10,20)\n",
        "u = (30,40)\n",
        "f(t,u), (t,u)"
      ],
      "metadata": {
        "colab": {
          "base_uri": "https://localhost:8080/"
        },
        "id": "w3bDDctuOiok",
        "outputId": "67d28b8d-d494-4e86-cb58-f05021cb9801"
      },
      "execution_count": 30,
      "outputs": [
        {
          "output_type": "execute_result",
          "data": {
            "text/plain": [
              "((10, 20, 30, 40), ((10, 20), (30, 40)))"
            ]
          },
          "metadata": {},
          "execution_count": 30
        }
      ]
    },
    {
      "cell_type": "code",
      "source": [
        "#예제11\n",
        "class HauntedBus:\n",
        "    \"\"\"유령 승객이 출몰하는 버스 모델\"\"\"\n",
        "    def __init__(self, passengers=[]):\n",
        "        self.passengers = passengers\n",
        "\n",
        "    def pick(self, name):\n",
        "        self.passengers.append(name)\n",
        "\n",
        "    def drop(self, name):\n",
        "        self.passengers.remove(name)"
      ],
      "metadata": {
        "id": "yATK_030OpIH"
      },
      "execution_count": 31,
      "outputs": []
    },
    {
      "cell_type": "code",
      "source": [
        "#예제12\n",
        "bus1 = HauntedBus(['Alice', 'Bill'])\n",
        "bus1.passengers"
      ],
      "metadata": {
        "colab": {
          "base_uri": "https://localhost:8080/"
        },
        "id": "YnBIzmlXOvrS",
        "outputId": "17c41ca1-9c28-4fa3-b402-1ca5a1dd61ec"
      },
      "execution_count": 32,
      "outputs": [
        {
          "output_type": "execute_result",
          "data": {
            "text/plain": [
              "['Alice', 'Bill']"
            ]
          },
          "metadata": {},
          "execution_count": 32
        }
      ]
    },
    {
      "cell_type": "code",
      "source": [
        "bus1.pick('Charlie')\n",
        "bus1.drop('Alice')\n",
        "bus1.passengers"
      ],
      "metadata": {
        "colab": {
          "base_uri": "https://localhost:8080/"
        },
        "id": "1-T92i7tOxfN",
        "outputId": "421882fe-672e-469a-8ab7-1546614b55ef"
      },
      "execution_count": 33,
      "outputs": [
        {
          "output_type": "execute_result",
          "data": {
            "text/plain": [
              "['Bill', 'Charlie']"
            ]
          },
          "metadata": {},
          "execution_count": 33
        }
      ]
    },
    {
      "cell_type": "code",
      "source": [
        "bus2 = HauntedBus()\n",
        "bus2.pick('Carrie')\n",
        "bus2.passengers"
      ],
      "metadata": {
        "colab": {
          "base_uri": "https://localhost:8080/"
        },
        "id": "1fL9M8X0Ozyh",
        "outputId": "10b30118-5ed4-4f12-8319-5cd42e7dc893"
      },
      "execution_count": 34,
      "outputs": [
        {
          "output_type": "execute_result",
          "data": {
            "text/plain": [
              "['Carrie']"
            ]
          },
          "metadata": {},
          "execution_count": 34
        }
      ]
    },
    {
      "cell_type": "code",
      "source": [
        "bus3 = HauntedBus()\n",
        "bus3.passengers"
      ],
      "metadata": {
        "colab": {
          "base_uri": "https://localhost:8080/"
        },
        "id": "YR3H8J8sO37t",
        "outputId": "ffba4bbe-5a90-4484-af96-a7ed7eb9759a"
      },
      "execution_count": 35,
      "outputs": [
        {
          "output_type": "execute_result",
          "data": {
            "text/plain": [
              "['Carrie']"
            ]
          },
          "metadata": {},
          "execution_count": 35
        }
      ]
    },
    {
      "cell_type": "code",
      "source": [
        "bus3.pick('Dave')\n",
        "bus2.passengers"
      ],
      "metadata": {
        "colab": {
          "base_uri": "https://localhost:8080/"
        },
        "id": "D7h76gixO51s",
        "outputId": "d32817a2-fbec-49ca-dbab-092a04ab0879"
      },
      "execution_count": 36,
      "outputs": [
        {
          "output_type": "execute_result",
          "data": {
            "text/plain": [
              "['Carrie', 'Dave']"
            ]
          },
          "metadata": {},
          "execution_count": 36
        }
      ]
    },
    {
      "cell_type": "code",
      "source": [
        "bus2.passengers is bus3.passengers"
      ],
      "metadata": {
        "colab": {
          "base_uri": "https://localhost:8080/"
        },
        "id": "VO8G4rWEO7p9",
        "outputId": "fa1a52d5-2b84-4860-8c1b-a226edad530a"
      },
      "execution_count": 37,
      "outputs": [
        {
          "output_type": "execute_result",
          "data": {
            "text/plain": [
              "True"
            ]
          },
          "metadata": {},
          "execution_count": 37
        }
      ]
    },
    {
      "cell_type": "code",
      "source": [
        "bus1.passengers"
      ],
      "metadata": {
        "colab": {
          "base_uri": "https://localhost:8080/"
        },
        "id": "hIaGMucyO9cV",
        "outputId": "82004c6a-d471-403a-90e0-a55b214fbae8"
      },
      "execution_count": 38,
      "outputs": [
        {
          "output_type": "execute_result",
          "data": {
            "text/plain": [
              "['Bill', 'Charlie']"
            ]
          },
          "metadata": {},
          "execution_count": 38
        }
      ]
    },
    {
      "cell_type": "code",
      "source": [
        "HauntedBus.__init__.__defaults__"
      ],
      "metadata": {
        "colab": {
          "base_uri": "https://localhost:8080/"
        },
        "id": "uBerPY-WPA52",
        "outputId": "ece85126-93e0-4c70-a9aa-34b5fce64a90"
      },
      "execution_count": 39,
      "outputs": [
        {
          "output_type": "execute_result",
          "data": {
            "text/plain": [
              "(['Carrie', 'Dave'],)"
            ]
          },
          "metadata": {},
          "execution_count": 39
        }
      ]
    },
    {
      "cell_type": "code",
      "source": [
        "HauntedBus.__init__.__defaults__[0] is bus2.passengers"
      ],
      "metadata": {
        "colab": {
          "base_uri": "https://localhost:8080/"
        },
        "id": "iUCNSDavPExy",
        "outputId": "91d9f241-d83c-4c86-ece9-013b69c5c71e"
      },
      "execution_count": 40,
      "outputs": [
        {
          "output_type": "execute_result",
          "data": {
            "text/plain": [
              "True"
            ]
          },
          "metadata": {},
          "execution_count": 40
        }
      ]
    },
    {
      "cell_type": "code",
      "source": [
        "#예제13\n",
        "class TwilightBus:\n",
        "    \"\"\"승객이 사라지게 만드는 버스 모델\"\"\"\n",
        "    def __init__(self, passengers=None):\n",
        "        if passengers is None:\n",
        "            self.passengers = []\n",
        "        else:\n",
        "            self.passengers = passengers\n",
        "\n",
        "    def pick(self, name):\n",
        "        self.passengers.append(name)\n",
        "\n",
        "    def drop(self, name):\n",
        "        self.passengers.remove(name)"
      ],
      "metadata": {
        "id": "Zpw1JQhsPJvW"
      },
      "execution_count": 42,
      "outputs": []
    },
    {
      "cell_type": "code",
      "source": [
        "#예제14\n",
        "basketball_team = ['Sue', 'Tina', 'Maya', 'Diana', 'Pat']\n",
        "bus = TwilightBus(basketball_team)\n",
        "bus.drop('Tina')\n",
        "bus.drop('Pat')\n",
        "basketball_team"
      ],
      "metadata": {
        "colab": {
          "base_uri": "https://localhost:8080/"
        },
        "id": "aQkCv5FHPR13",
        "outputId": "0aadc9ef-52ef-4e6b-ea96-ceceacdef85f"
      },
      "execution_count": 43,
      "outputs": [
        {
          "output_type": "execute_result",
          "data": {
            "text/plain": [
              "['Sue', 'Maya', 'Diana']"
            ]
          },
          "metadata": {},
          "execution_count": 43
        }
      ]
    },
    {
      "cell_type": "code",
      "source": [
        "#예제15\n",
        "class TwilightBus:\n",
        "    def __init__(self, passengers=None):\n",
        "        if passengers is None:\n",
        "            self.passengers = []\n",
        "        else:\n",
        "            self.passengers = list(passengers)\n",
        "\n",
        "    def pick(self, name):\n",
        "        self.passengers.append(name)\n",
        "\n",
        "    def drop(self, name):\n",
        "        self.passengers.remove(name)"
      ],
      "metadata": {
        "id": "i2NShB6dPXZ8"
      },
      "execution_count": 44,
      "outputs": []
    },
    {
      "cell_type": "code",
      "source": [
        "#예제16\n",
        "basketball_team = ['Sue', 'Tina', 'Maya', 'Diana', 'Pat']\n",
        "bus = TwilightBus(basketball_team)\n",
        "bus.drop('Tina')\n",
        "bus.drop('Pat')\n",
        "basketball_team"
      ],
      "metadata": {
        "colab": {
          "base_uri": "https://localhost:8080/"
        },
        "id": "Zc1t6mZKPhAW",
        "outputId": "aa43771f-1660-46f3-fb25-b6323e5dd931"
      },
      "execution_count": 45,
      "outputs": [
        {
          "output_type": "execute_result",
          "data": {
            "text/plain": [
              "['Sue', 'Tina', 'Maya', 'Diana', 'Pat']"
            ]
          },
          "metadata": {},
          "execution_count": 45
        }
      ]
    },
    {
      "cell_type": "code",
      "source": [
        "#예제17\n",
        "import weakref\n",
        "s1 = {1,2,3}\n",
        "s2 = s1\n",
        "def bye():\n",
        "    print('Gone with the wind...')\n",
        "\n",
        "ender = weakref.finalize(s1, bye)\n",
        "ender.alive"
      ],
      "metadata": {
        "colab": {
          "base_uri": "https://localhost:8080/"
        },
        "id": "ByHo5tEMPmqf",
        "outputId": "806c10f2-8d71-4da3-d9ae-d8ad3bebe5aa"
      },
      "execution_count": 46,
      "outputs": [
        {
          "output_type": "execute_result",
          "data": {
            "text/plain": [
              "True"
            ]
          },
          "metadata": {},
          "execution_count": 46
        }
      ]
    },
    {
      "cell_type": "code",
      "source": [
        "del s1\n",
        "ender.alive"
      ],
      "metadata": {
        "colab": {
          "base_uri": "https://localhost:8080/"
        },
        "id": "WkboFAdLPtiJ",
        "outputId": "630e07f9-e96e-43e4-a922-0a97b43c0a66"
      },
      "execution_count": 47,
      "outputs": [
        {
          "output_type": "execute_result",
          "data": {
            "text/plain": [
              "True"
            ]
          },
          "metadata": {},
          "execution_count": 47
        }
      ]
    },
    {
      "cell_type": "code",
      "source": [
        "s2 = 'spam'"
      ],
      "metadata": {
        "id": "RY63e5JmPxIS"
      },
      "execution_count": 48,
      "outputs": []
    },
    {
      "cell_type": "code",
      "source": [
        "ender.alive"
      ],
      "metadata": {
        "colab": {
          "base_uri": "https://localhost:8080/"
        },
        "id": "I3o3lb18P1Kf",
        "outputId": "90fca45a-7c90-42ff-fe13-93981ed3b1bb"
      },
      "execution_count": 49,
      "outputs": [
        {
          "output_type": "execute_result",
          "data": {
            "text/plain": [
              "False"
            ]
          },
          "metadata": {},
          "execution_count": 49
        }
      ]
    }
  ]
}