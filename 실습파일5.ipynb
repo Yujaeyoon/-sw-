{
  "nbformat": 4,
  "nbformat_minor": 0,
  "metadata": {
    "colab": {
      "provenance": []
    },
    "kernelspec": {
      "name": "python3",
      "display_name": "Python 3"
    },
    "language_info": {
      "name": "python"
    }
  },
  "cells": [
    {
      "cell_type": "code",
      "execution_count": 5,
      "metadata": {
        "colab": {
          "base_uri": "https://localhost:8080/"
        },
        "id": "Qpzf9g2TCjm4",
        "outputId": "a9c1157e-9c17-4a89-df30-a7daeaa3f598"
      },
      "outputs": [
        {
          "output_type": "execute_result",
          "data": {
            "text/plain": [
              "4"
            ]
          },
          "metadata": {},
          "execution_count": 5
        }
      ],
      "source": [
        "# 예제 10\n",
        "open('cafe.txt', 'w', encoding='utf8').write('café')"
      ]
    },
    {
      "cell_type": "code",
      "source": [
        "open('cafe.txt').read()"
      ],
      "metadata": {
        "colab": {
          "base_uri": "https://localhost:8080/",
          "height": 35
        },
        "id": "BjGTUllOCyuT",
        "outputId": "adda2384-8710-4487-c22f-f65b643e606e"
      },
      "execution_count": 6,
      "outputs": [
        {
          "output_type": "execute_result",
          "data": {
            "text/plain": [
              "'café'"
            ],
            "application/vnd.google.colaboratory.intrinsic+json": {
              "type": "string"
            }
          },
          "metadata": {},
          "execution_count": 6
        }
      ]
    },
    {
      "cell_type": "code",
      "source": [
        "# 예제 11\n",
        "import sys, locale\n",
        "\n",
        "expressions = \"\"\"\n",
        "    locale.getpreferredencoding()\n",
        "    type(my_file)\n",
        "    my_file.encoding\n",
        "    sys.stdout.isatty()\n",
        "    sys.stdout.encoding\n",
        "    sys.stdin.isatty()\n",
        "    sys.stdin.encoding\n",
        "    sys.stderr.isatty()\n",
        "    sys.stderr.encoding\n",
        "    sys.getdefaultencoding()\n",
        "    sys.getfilesystemencoding()\n",
        "    \"\"\"\n",
        "my_file = open('dummy', 'w')\n",
        "\n",
        "for expression in expressions.split():\n",
        "  value = eval(expression)\n",
        "  print(expression.rjust(30), '->', repr(value))\n"
      ],
      "metadata": {
        "colab": {
          "base_uri": "https://localhost:8080/"
        },
        "id": "yJxyJGwoC9lH",
        "outputId": "c76c1976-be94-47bf-9e9e-a5e48ff72345"
      },
      "execution_count": 11,
      "outputs": [
        {
          "output_type": "stream",
          "name": "stdout",
          "text": [
            " locale.getpreferredencoding() -> 'UTF-8'\n",
            "                 type(my_file) -> <class '_io.TextIOWrapper'>\n",
            "              my_file.encoding -> 'UTF-8'\n",
            "           sys.stdout.isatty() -> False\n",
            "           sys.stdout.encoding -> 'UTF-8'\n",
            "            sys.stdin.isatty() -> False\n",
            "            sys.stdin.encoding -> 'utf-8'\n",
            "           sys.stderr.isatty() -> False\n",
            "           sys.stderr.encoding -> 'UTF-8'\n",
            "      sys.getdefaultencoding() -> 'utf-8'\n",
            "   sys.getfilesystemencoding() -> 'utf-8'\n"
          ]
        }
      ]
    },
    {
      "cell_type": "code",
      "source": [
        "# 예제 12\n",
        "from unicodedata import normalize\n",
        "s1 = 'café'\n",
        "s2 = 'café'\n",
        "len(normalize('NFC',s1)), len(normalize('NFC',s2))"
      ],
      "metadata": {
        "colab": {
          "base_uri": "https://localhost:8080/"
        },
        "id": "21yIIi9NEOdS",
        "outputId": "41d339fa-edce-401a-bfeb-1dfe955c781a"
      },
      "execution_count": 17,
      "outputs": [
        {
          "output_type": "execute_result",
          "data": {
            "text/plain": [
              "(4, 4)"
            ]
          },
          "metadata": {},
          "execution_count": 17
        }
      ]
    },
    {
      "cell_type": "code",
      "source": [
        "len(normalize('NFD',s1)), len(normalize('NFD', s2))"
      ],
      "metadata": {
        "colab": {
          "base_uri": "https://localhost:8080/"
        },
        "id": "7wWTHpuZE5MS",
        "outputId": "a198c5af-b199-4983-994c-375725c3f6c1"
      },
      "execution_count": 18,
      "outputs": [
        {
          "output_type": "execute_result",
          "data": {
            "text/plain": [
              "(5, 5)"
            ]
          },
          "metadata": {},
          "execution_count": 18
        }
      ]
    },
    {
      "cell_type": "code",
      "source": [
        "normalize('NFC', s1), normalize('NFC', s2)"
      ],
      "metadata": {
        "colab": {
          "base_uri": "https://localhost:8080/"
        },
        "id": "frVTfWxtFWYq",
        "outputId": "7dbc3666-50c3-4d12-b1db-590bf12360b1"
      },
      "execution_count": 19,
      "outputs": [
        {
          "output_type": "execute_result",
          "data": {
            "text/plain": [
              "('café', 'café')"
            ]
          },
          "metadata": {},
          "execution_count": 19
        }
      ]
    },
    {
      "cell_type": "code",
      "source": [
        "normalize('NFD', s1), normalize('NFD',s2)"
      ],
      "metadata": {
        "colab": {
          "base_uri": "https://localhost:8080/"
        },
        "id": "mhQ_0Z8rFcO3",
        "outputId": "2c1a0982-3736-4459-d5a3-866a2bcda3c6"
      },
      "execution_count": 20,
      "outputs": [
        {
          "output_type": "execute_result",
          "data": {
            "text/plain": [
              "('café', 'café')"
            ]
          },
          "metadata": {},
          "execution_count": 20
        }
      ]
    },
    {
      "cell_type": "code",
      "source": [
        "normalize('NFC', s1) == normalize('NFC',s2)"
      ],
      "metadata": {
        "colab": {
          "base_uri": "https://localhost:8080/"
        },
        "id": "vEFDU2-4Fhwy",
        "outputId": "b8605716-292a-4258-dca2-6cd8925fcccf"
      },
      "execution_count": 21,
      "outputs": [
        {
          "output_type": "execute_result",
          "data": {
            "text/plain": [
              "True"
            ]
          },
          "metadata": {},
          "execution_count": 21
        }
      ]
    },
    {
      "cell_type": "code",
      "source": [
        "normalize('NFD',s1)==normalize('NFD',s2)"
      ],
      "metadata": {
        "colab": {
          "base_uri": "https://localhost:8080/"
        },
        "id": "tFTADr3lFnS-",
        "outputId": "dba16a3b-a5cd-4c63-a972-88a524276f05"
      },
      "execution_count": 22,
      "outputs": [
        {
          "output_type": "execute_result",
          "data": {
            "text/plain": [
              "True"
            ]
          },
          "metadata": {},
          "execution_count": 22
        }
      ]
    },
    {
      "cell_type": "code",
      "source": [
        "# 예제 13\n",
        "from unicodedata import normalize, name\n",
        "ohm = '\\u2126'\n",
        "name(ohm)"
      ],
      "metadata": {
        "colab": {
          "base_uri": "https://localhost:8080/",
          "height": 35
        },
        "id": "21M-iDkdFsYj",
        "outputId": "acbc6718-f972-4a9c-e0c9-99ca92855dca"
      },
      "execution_count": 23,
      "outputs": [
        {
          "output_type": "execute_result",
          "data": {
            "text/plain": [
              "'OHM SIGN'"
            ],
            "application/vnd.google.colaboratory.intrinsic+json": {
              "type": "string"
            }
          },
          "metadata": {},
          "execution_count": 23
        }
      ]
    },
    {
      "cell_type": "code",
      "source": [
        "ohm_c = normalize('NFC', ohm)\n",
        "name(ohm_c)"
      ],
      "metadata": {
        "colab": {
          "base_uri": "https://localhost:8080/",
          "height": 35
        },
        "id": "-MDIlaChF3aj",
        "outputId": "9b3aea49-2a0d-4b95-8488-15ccdbf8a3a3"
      },
      "execution_count": 27,
      "outputs": [
        {
          "output_type": "execute_result",
          "data": {
            "text/plain": [
              "'GREEK CAPITAL LETTER OMEGA'"
            ],
            "application/vnd.google.colaboratory.intrinsic+json": {
              "type": "string"
            }
          },
          "metadata": {},
          "execution_count": 27
        }
      ]
    },
    {
      "cell_type": "code",
      "source": [
        "ohm, ohm_c, ohm == ohm_c"
      ],
      "metadata": {
        "colab": {
          "base_uri": "https://localhost:8080/"
        },
        "id": "VleE_FUcF9-b",
        "outputId": "e0fe3f40-0676-476c-f338-0649b0b5bce6"
      },
      "execution_count": 28,
      "outputs": [
        {
          "output_type": "execute_result",
          "data": {
            "text/plain": [
              "('Ω', 'Ω', False)"
            ]
          },
          "metadata": {},
          "execution_count": 28
        }
      ]
    },
    {
      "cell_type": "code",
      "source": [
        "normalize('NFC', ohm) == normalize('NFC', ohm_c)"
      ],
      "metadata": {
        "colab": {
          "base_uri": "https://localhost:8080/"
        },
        "id": "SFSfY0-XGD1c",
        "outputId": "41d1191f-b8b3-40f5-c897-9af773411fc9"
      },
      "execution_count": 29,
      "outputs": [
        {
          "output_type": "execute_result",
          "data": {
            "text/plain": [
              "True"
            ]
          },
          "metadata": {},
          "execution_count": 29
        }
      ]
    },
    {
      "cell_type": "code",
      "source": [
        "# 예제 14\n",
        "eszett = 'ß'\n",
        "name(eszett)"
      ],
      "metadata": {
        "colab": {
          "base_uri": "https://localhost:8080/",
          "height": 35
        },
        "id": "2VQjAL6gGLOD",
        "outputId": "82b65f5e-de0c-40d4-df60-f88ea9efdf89"
      },
      "execution_count": 30,
      "outputs": [
        {
          "output_type": "execute_result",
          "data": {
            "text/plain": [
              "'LATIN SMALL LETTER SHARP S'"
            ],
            "application/vnd.google.colaboratory.intrinsic+json": {
              "type": "string"
            }
          },
          "metadata": {},
          "execution_count": 30
        }
      ]
    },
    {
      "cell_type": "code",
      "source": [
        "eszett_cf = eszett.casefold()\n",
        "eszett_cf2 = eszett.lower()\n",
        "eszett, eszett_cf, eszett_cf2"
      ],
      "metadata": {
        "colab": {
          "base_uri": "https://localhost:8080/"
        },
        "id": "K88KAw-cGQtD",
        "outputId": "582db2c5-d4d8-4dd3-9050-dde32dea4388"
      },
      "execution_count": 31,
      "outputs": [
        {
          "output_type": "execute_result",
          "data": {
            "text/plain": [
              "('ß', 'ss', 'ß')"
            ]
          },
          "metadata": {},
          "execution_count": 31
        }
      ]
    },
    {
      "cell_type": "code",
      "source": [
        "# 예제 15\n",
        "s1 = 'café'\n",
        "s2 = 'cafe\\u0301'\n",
        "s1 == s2"
      ],
      "metadata": {
        "colab": {
          "base_uri": "https://localhost:8080/"
        },
        "id": "7B3HOO2tGZrO",
        "outputId": "af3ab7c9-e3ca-4ab6-b5de-19da227e10de"
      },
      "execution_count": 38,
      "outputs": [
        {
          "output_type": "execute_result",
          "data": {
            "text/plain": [
              "False"
            ]
          },
          "metadata": {},
          "execution_count": 38
        }
      ]
    },
    {
      "cell_type": "code",
      "source": [
        "from unicodedata import normalize\n",
        "\n",
        "def nfc_equal(str1, str2):\n",
        "  return normalize('NFC', str1) == normalize('NFC', str2)\n",
        "\n",
        "def fold_equal(str1, str2):\n",
        "  return(normalize('NFC', str1).casefold() == normalize('NFC', str2).casefold())\n",
        "\n",
        "print(nfc_equal(s1,s2))\n",
        "print(nfc_equal('A','a'))\n",
        "\n",
        "s3 = 'STraße'\n",
        "s4 = 'strasse'\n",
        "\n",
        "s3 == s4"
      ],
      "metadata": {
        "colab": {
          "base_uri": "https://localhost:8080/"
        },
        "id": "slsamhGnGiF2",
        "outputId": "49b763d1-a47f-4bca-dbd6-b1082e11967e"
      },
      "execution_count": 44,
      "outputs": [
        {
          "output_type": "stream",
          "name": "stdout",
          "text": [
            "True\n",
            "False\n"
          ]
        },
        {
          "output_type": "execute_result",
          "data": {
            "text/plain": [
              "False"
            ]
          },
          "metadata": {},
          "execution_count": 44
        }
      ]
    },
    {
      "cell_type": "code",
      "source": [
        "nfc_equal(s3,s4)"
      ],
      "metadata": {
        "colab": {
          "base_uri": "https://localhost:8080/"
        },
        "id": "x4qTb9y-Hi4v",
        "outputId": "537ead1c-5a75-4001-a3f9-d57ad3dff540"
      },
      "execution_count": 45,
      "outputs": [
        {
          "output_type": "execute_result",
          "data": {
            "text/plain": [
              "False"
            ]
          },
          "metadata": {},
          "execution_count": 45
        }
      ]
    },
    {
      "cell_type": "code",
      "source": [
        "fold_equal(s3,s4)"
      ],
      "metadata": {
        "colab": {
          "base_uri": "https://localhost:8080/"
        },
        "id": "kCF4E_RLHlpP",
        "outputId": "3b8c44c5-73b7-4af9-f98a-a05f258a37b2"
      },
      "execution_count": 46,
      "outputs": [
        {
          "output_type": "execute_result",
          "data": {
            "text/plain": [
              "True"
            ]
          },
          "metadata": {},
          "execution_count": 46
        }
      ]
    },
    {
      "cell_type": "code",
      "source": [
        "fold_equal(s1,s2)"
      ],
      "metadata": {
        "colab": {
          "base_uri": "https://localhost:8080/"
        },
        "id": "fM3bPKSrHncm",
        "outputId": "c3c562d7-7d7b-4590-8cc3-5ed70686f4d7"
      },
      "execution_count": 47,
      "outputs": [
        {
          "output_type": "execute_result",
          "data": {
            "text/plain": [
              "True"
            ]
          },
          "metadata": {},
          "execution_count": 47
        }
      ]
    },
    {
      "cell_type": "code",
      "source": [
        "fold_equal('A','a')"
      ],
      "metadata": {
        "colab": {
          "base_uri": "https://localhost:8080/"
        },
        "id": "NQ3O02HiHqh-",
        "outputId": "8df71f36-fd35-4b62-c07f-07332b18c684"
      },
      "execution_count": 48,
      "outputs": [
        {
          "output_type": "execute_result",
          "data": {
            "text/plain": [
              "True"
            ]
          },
          "metadata": {},
          "execution_count": 48
        }
      ]
    },
    {
      "cell_type": "code",
      "source": [
        "# 예제 16\n",
        "import unicodedata\n",
        "import string\n",
        "\n",
        "def shave_marks(txt):\n",
        "  \"\"\"발음 구별 기호를 모두 제거한다\"\"\"\n",
        "  norm_txt = unicodedata.normalize('NFD', txt)\n",
        "  shaved = ''.join(c for c in norm_txt if not unicodedata.combining(c))\n",
        "  return unicodedata.normalize('NFC', shaved)\n",
        "\n",
        "order = '“Herr Voß: • ½ cup of Œtker™ caffè latte • bowl of açaí.”'\n",
        "shave_marks(order)"
      ],
      "metadata": {
        "colab": {
          "base_uri": "https://localhost:8080/",
          "height": 35
        },
        "id": "WfBMRpI9Hx1O",
        "outputId": "f9e21061-ba40-4271-ef6b-025ad3b943a2"
      },
      "execution_count": 52,
      "outputs": [
        {
          "output_type": "execute_result",
          "data": {
            "text/plain": [
              "'“Herr Voß: • ½ cup of Œtker™ caffe latte • bowl of acai.”'"
            ],
            "application/vnd.google.colaboratory.intrinsic+json": {
              "type": "string"
            }
          },
          "metadata": {},
          "execution_count": 52
        }
      ]
    },
    {
      "cell_type": "code",
      "source": [
        "Greek = 'Ζέφυρος, Zéfiro'\n",
        "shave_marks(Greek)"
      ],
      "metadata": {
        "colab": {
          "base_uri": "https://localhost:8080/",
          "height": 35
        },
        "id": "67zZ-_ZIImEv",
        "outputId": "63647747-5c7a-4694-a886-aa153784b5c1"
      },
      "execution_count": 53,
      "outputs": [
        {
          "output_type": "execute_result",
          "data": {
            "text/plain": [
              "'Ζεφυρος, Zefiro'"
            ],
            "application/vnd.google.colaboratory.intrinsic+json": {
              "type": "string"
            }
          },
          "metadata": {},
          "execution_count": 53
        }
      ]
    },
    {
      "cell_type": "code",
      "source": [
        "shave_marks('Straße')"
      ],
      "metadata": {
        "colab": {
          "base_uri": "https://localhost:8080/",
          "height": 35
        },
        "id": "ECLXyBsXIrtj",
        "outputId": "1fa76289-d164-46ec-9f1a-88e95a5b69a4"
      },
      "execution_count": 54,
      "outputs": [
        {
          "output_type": "execute_result",
          "data": {
            "text/plain": [
              "'Straße'"
            ],
            "application/vnd.google.colaboratory.intrinsic+json": {
              "type": "string"
            }
          },
          "metadata": {},
          "execution_count": 54
        }
      ]
    },
    {
      "cell_type": "code",
      "source": [
        "shave_marks('café')"
      ],
      "metadata": {
        "colab": {
          "base_uri": "https://localhost:8080/",
          "height": 35
        },
        "id": "-RctGaWAIvQ2",
        "outputId": "47747b96-149e-4e06-a7ef-a63a2999d904"
      },
      "execution_count": 55,
      "outputs": [
        {
          "output_type": "execute_result",
          "data": {
            "text/plain": [
              "'cafe'"
            ],
            "application/vnd.google.colaboratory.intrinsic+json": {
              "type": "string"
            }
          },
          "metadata": {},
          "execution_count": 55
        }
      ]
    },
    {
      "cell_type": "code",
      "source": [
        "# 예제 17\n",
        "def shave_marks_latin(txt):\n",
        "  \"\"\"Remove all aiacritic marks from Latin base characters\"\"\"\n",
        "  norm_txt = unicodedata.normalize('NFD', txt)\n",
        "\n",
        "  latin_base = False\n",
        "  keepers = []\n",
        "\n",
        "  for c in norm_txt:\n",
        "    if unicodedata.combining(c) and latin_base:\n",
        "      continue\n",
        "\n",
        "    keepers.append(c)\n",
        "\n",
        "    if not unicodedata.combining(c):\n",
        "      latin_base = c in string.ascii_letters\n",
        "\n",
        "  shaved = ''.join(keepers)\n",
        "\n",
        "  return unicodedata.normalize('NFC', shaved)"
      ],
      "metadata": {
        "id": "AlpObZs2IzjH"
      },
      "execution_count": 56,
      "outputs": []
    },
    {
      "cell_type": "code",
      "source": [
        "# 예제 18\n",
        "single_map = str.maketrans(\"\"\"‚ƒ„†‡ˆ‹‘’“”•–—˜›\"\"\", \"\"\"'f\"+*^<''\"\"---~>\"\"\")\n",
        "\n",
        "multi_map = str.maketrans({\n",
        "    '€': '<euro>',\n",
        "    '…': '...',\n",
        "    'Œ': 'OE',\n",
        "    '™': '(TM)',\n",
        "    'œ': 'oe',\n",
        "    '‰': '<per mille>',\n",
        "    '∗': '*',\n",
        "})\n",
        "\n",
        "multi_map.update(single_map)\n",
        "\n",
        "def dewinize(txt):\n",
        "  \"\"\"Replace Win1252 symbols with ASCII chars or sequences\"\"\"\n",
        "  return txt.translate(multi_map)\n",
        "\n",
        "def asciize(txt):\n",
        "  no_marks = shave_marks_latin(dewinize(txt))\n",
        "  no_marks = no_marks.replace('ß', 'ss')\n",
        "  return unicodedata.normalize('NFKC', no_marks)\n",
        "\n",
        "order = '“Herr Voß: • ½ cup of Œtker™ caffè latte • bowl of açaí.”'\n",
        "dewinize(order)"
      ],
      "metadata": {
        "colab": {
          "base_uri": "https://localhost:8080/",
          "height": 35
        },
        "id": "-NSxG1hQJcOv",
        "outputId": "2ef5b65d-217d-4e86-9901-fdd8137932ef"
      },
      "execution_count": 59,
      "outputs": [
        {
          "output_type": "execute_result",
          "data": {
            "text/plain": [
              "'\"Herr Voß: - ½ cup of OEtker(TM) caffè latte - bowl of açaí.\"'"
            ],
            "application/vnd.google.colaboratory.intrinsic+json": {
              "type": "string"
            }
          },
          "metadata": {},
          "execution_count": 59
        }
      ]
    },
    {
      "cell_type": "code",
      "source": [
        "asciize(order)"
      ],
      "metadata": {
        "colab": {
          "base_uri": "https://localhost:8080/",
          "height": 35
        },
        "id": "Zo-HPc0rKYeL",
        "outputId": "5090e13c-5ec8-4d01-b8f3-f8e26ba45815"
      },
      "execution_count": 60,
      "outputs": [
        {
          "output_type": "execute_result",
          "data": {
            "text/plain": [
              "'\"Herr Voss: - 1⁄2 cup of OEtker(TM) caffe latte - bowl of acai.\"'"
            ],
            "application/vnd.google.colaboratory.intrinsic+json": {
              "type": "string"
            }
          },
          "metadata": {},
          "execution_count": 60
        }
      ]
    },
    {
      "cell_type": "code",
      "source": [
        "# 예제 19\n",
        "fruits = ['caju', 'atemoia', 'cajá', 'açaí', 'acerola']\n",
        "sorted(fruits)"
      ],
      "metadata": {
        "colab": {
          "base_uri": "https://localhost:8080/"
        },
        "id": "gEJFV-aCKZZP",
        "outputId": "4dda1aff-2228-442b-d532-fd369cf99509"
      },
      "execution_count": 62,
      "outputs": [
        {
          "output_type": "execute_result",
          "data": {
            "text/plain": [
              "['acerola', 'atemoia', 'açaí', 'caju', 'cajá']"
            ]
          },
          "metadata": {},
          "execution_count": 62
        }
      ]
    },
    {
      "cell_type": "code",
      "source": [
        "!pip install pyuca"
      ],
      "metadata": {
        "colab": {
          "base_uri": "https://localhost:8080/"
        },
        "id": "08UOjjS1K2NG",
        "outputId": "164d8c8e-f96a-4143-dc16-186de9470286"
      },
      "execution_count": 63,
      "outputs": [
        {
          "output_type": "stream",
          "name": "stdout",
          "text": [
            "Collecting pyuca\n",
            "  Downloading pyuca-1.2-py2.py3-none-any.whl.metadata (649 bytes)\n",
            "Downloading pyuca-1.2-py2.py3-none-any.whl (1.5 MB)\n",
            "\u001b[?25l   \u001b[90m━━━━━━━━━━━━━━━━━━━━━━━━━━━━━━━━━━━━━━━━\u001b[0m \u001b[32m0.0/1.5 MB\u001b[0m \u001b[31m?\u001b[0m eta \u001b[36m-:--:--\u001b[0m\r\u001b[2K   \u001b[91m━━━━━━━━━━\u001b[0m\u001b[91m╸\u001b[0m\u001b[90m━━━━━━━━━━━━━━━━━━━━━━━━━━━━━\u001b[0m \u001b[32m0.4/1.5 MB\u001b[0m \u001b[31m11.9 MB/s\u001b[0m eta \u001b[36m0:00:01\u001b[0m\r\u001b[2K   \u001b[90m━━━━━━━━━━━━━━━━━━━━━━━━━━━━━━━━━━━━━━━━\u001b[0m \u001b[32m1.5/1.5 MB\u001b[0m \u001b[31m21.9 MB/s\u001b[0m eta \u001b[36m0:00:00\u001b[0m\n",
            "\u001b[?25hInstalling collected packages: pyuca\n",
            "Successfully installed pyuca-1.2\n"
          ]
        }
      ]
    },
    {
      "cell_type": "code",
      "source": [
        "import pyuca\n",
        "coll = pyuca.Collator()\n",
        "fruits = ['caju', 'atemoia', 'cajá', 'açaí', 'acerola']\n",
        "sorted_fruits = sorted(fruits, key=coll.sort_key)\n",
        "sorted_fruits"
      ],
      "metadata": {
        "colab": {
          "base_uri": "https://localhost:8080/"
        },
        "id": "cokg1pOALHED",
        "outputId": "c3b79d8c-a81a-4ce1-d931-aeaaec14ad28"
      },
      "execution_count": 64,
      "outputs": [
        {
          "output_type": "execute_result",
          "data": {
            "text/plain": [
              "['açaí', 'acerola', 'atemoia', 'cajá', 'caju']"
            ]
          },
          "metadata": {},
          "execution_count": 64
        }
      ]
    },
    {
      "cell_type": "code",
      "source": [
        "# 예제 21\n",
        "import unicodedata\n",
        "import re\n",
        "\n",
        "re_digit = re.compile(r'\\d')\n",
        "sample = '1\\xbc\\xb2\\u0969\\u136b\\u216b\\u2466\\u2480\\u3285'\n",
        "\n",
        "for char in sample:\n",
        "  print('U+%04x' % ord(char),\n",
        "        char.center(6),\n",
        "        're_dig' if re_digit.match(char) else '-',\n",
        "        'isdig' if char.isdigit() else '-',\n",
        "        'isnum' if char.isnumeric() else '-',\n",
        "        format(unicodedata.numeric(char), '5.2f'),\n",
        "        unicodedata.name(char),\n",
        "        sep='\\t')"
      ],
      "metadata": {
        "colab": {
          "base_uri": "https://localhost:8080/"
        },
        "id": "SZRsvJjcLRNP",
        "outputId": "f162ffc8-dcaf-4f24-81df-f49815c35065"
      },
      "execution_count": 66,
      "outputs": [
        {
          "output_type": "stream",
          "name": "stdout",
          "text": [
            "U+0031\t  1   \tre_dig\tisdig\tisnum\t 1.00\tDIGIT ONE\n",
            "U+00bc\t  ¼   \t-\t-\tisnum\t 0.25\tVULGAR FRACTION ONE QUARTER\n",
            "U+00b2\t  ²   \t-\tisdig\tisnum\t 2.00\tSUPERSCRIPT TWO\n",
            "U+0969\t  ३   \tre_dig\tisdig\tisnum\t 3.00\tDEVANAGARI DIGIT THREE\n",
            "U+136b\t  ፫   \t-\tisdig\tisnum\t 3.00\tETHIOPIC DIGIT THREE\n",
            "U+216b\t  Ⅻ   \t-\t-\tisnum\t12.00\tROMAN NUMERAL TWELVE\n",
            "U+2466\t  ⑦   \t-\tisdig\tisnum\t 7.00\tCIRCLED DIGIT SEVEN\n",
            "U+2480\t  ⒀   \t-\t-\tisnum\t13.00\tPARENTHESIZED NUMBER THIRTEEN\n",
            "U+3285\t  ㊅   \t-\t-\tisnum\t 6.00\tCIRCLED IDEOGRAPH SIX\n"
          ]
        }
      ]
    },
    {
      "cell_type": "code",
      "source": [
        "# 예제 22\n",
        "import re\n",
        "\n",
        "re_numbers_str = re.compile(r'\\d+')\n",
        "re_words_str = re.compile(r'\\w+')\n",
        "re_numbers_bytes = re.compile(rb'\\d+')\n",
        "re_words_bytes = re.compile(rb'\\w+')\n",
        "\n",
        "text_str = (\"Ramanujan saw \\u0be7\\u0bed\\u0bed8\\u0bef\"\" as 1729 = 1³ + 12³ = 9³ + 10³.\")\n",
        "\n",
        "text_bytes = text_str.encode('utf_8')\n",
        "\n",
        "print('Text', repr(text_str), sep='\\n')\n",
        "print('Numbers')\n",
        "print(\" str : \", re_numbers_str.findall(text_str))\n",
        "print(' bytes :', re_numbers_bytes.findall(text_bytes))\n",
        "print(\"Words\")\n",
        "print(' str :', re_words_str.findall(text_str))\n",
        "print(\" bytes:\", re_words_bytes.findall(text_bytes))"
      ],
      "metadata": {
        "colab": {
          "base_uri": "https://localhost:8080/"
        },
        "id": "F0v54_7PMIZv",
        "outputId": "5377d5f8-1c51-4d97-c280-476b463f4e9f"
      },
      "execution_count": 68,
      "outputs": [
        {
          "output_type": "stream",
          "name": "stdout",
          "text": [
            "Text\n",
            "'Ramanujan saw ௧௭௭8௯ as 1729 = 1³ + 12³ = 9³ + 10³.'\n",
            "Numbers\n",
            " str :  ['௧௭௭8௯', '1729', '1', '12', '9', '10']\n",
            " bytes : [b'8', b'1729', b'1', b'12', b'9', b'10']\n",
            "Words\n",
            " str : ['Ramanujan', 'saw', '௧௭௭8௯', 'as', '1729', '1³', '12³', '9³', '10³']\n",
            " bytes: [b'Ramanujan', b'saw', b'8', b'as', b'1729', b'1', b'12', b'9', b'10']\n"
          ]
        }
      ]
    },
    {
      "cell_type": "code",
      "source": [
        "# 예제 23\n",
        "import os\n",
        "\n",
        "os.listdir('.')"
      ],
      "metadata": {
        "colab": {
          "base_uri": "https://localhost:8080/"
        },
        "id": "jeKucG0kNydr",
        "outputId": "2c2c78f4-2c1c-4a78-d544-3f4b6ef980e4"
      },
      "execution_count": 70,
      "outputs": [
        {
          "output_type": "execute_result",
          "data": {
            "text/plain": [
              "['.config', 'cafe.txt', 'dummy', 'sample_data']"
            ]
          },
          "metadata": {},
          "execution_count": 70
        }
      ]
    },
    {
      "cell_type": "code",
      "source": [
        "os.listdir(b'.')"
      ],
      "metadata": {
        "colab": {
          "base_uri": "https://localhost:8080/"
        },
        "id": "oObBS8J4PHxe",
        "outputId": "1158a2c5-cd4d-491c-b929-654d3ccad3b5"
      },
      "execution_count": 71,
      "outputs": [
        {
          "output_type": "execute_result",
          "data": {
            "text/plain": [
              "[b'.config', b'cafe.txt', b'dummy', b'sample_data']"
            ]
          },
          "metadata": {},
          "execution_count": 71
        }
      ]
    },
    {
      "cell_type": "code",
      "source": [
        "# 예제 24\n",
        "os.listdir('./fluent_python')\n",
        "os.listdir(b'./fluent_python')\n",
        "\n",
        "pi_name_bytes = os.listdir(b'.')[1]\n",
        "pi_name_str = pi_name_bytes.decode('ascii', 'surrogateescape')\n",
        "pi_name_str"
      ],
      "metadata": {
        "colab": {
          "base_uri": "https://localhost:8080/",
          "height": 211
        },
        "id": "uJrJ-u5MPKub",
        "outputId": "c72b9e51-394a-4831-c92c-384e1fd3edf0"
      },
      "execution_count": 78,
      "outputs": [
        {
          "output_type": "error",
          "ename": "FileNotFoundError",
          "evalue": "[Errno 2] No such file or directory: './fluent_python'",
          "traceback": [
            "\u001b[0;31m---------------------------------------------------------------------------\u001b[0m",
            "\u001b[0;31mFileNotFoundError\u001b[0m                         Traceback (most recent call last)",
            "\u001b[0;32m<ipython-input-78-0b1a6b148b39>\u001b[0m in \u001b[0;36m<cell line: 2>\u001b[0;34m()\u001b[0m\n\u001b[1;32m      1\u001b[0m \u001b[0;31m# 예제 24\u001b[0m\u001b[0;34m\u001b[0m\u001b[0;34m\u001b[0m\u001b[0m\n\u001b[0;32m----> 2\u001b[0;31m \u001b[0mos\u001b[0m\u001b[0;34m.\u001b[0m\u001b[0mlistdir\u001b[0m\u001b[0;34m(\u001b[0m\u001b[0;34m'./fluent_python'\u001b[0m\u001b[0;34m)\u001b[0m\u001b[0;34m\u001b[0m\u001b[0;34m\u001b[0m\u001b[0m\n\u001b[0m\u001b[1;32m      3\u001b[0m \u001b[0mos\u001b[0m\u001b[0;34m.\u001b[0m\u001b[0mlistdir\u001b[0m\u001b[0;34m(\u001b[0m\u001b[0;34mb'./fluent_python'\u001b[0m\u001b[0;34m)\u001b[0m\u001b[0;34m\u001b[0m\u001b[0;34m\u001b[0m\u001b[0m\n\u001b[1;32m      4\u001b[0m \u001b[0;34m\u001b[0m\u001b[0m\n\u001b[1;32m      5\u001b[0m \u001b[0mpi_name_bytes\u001b[0m \u001b[0;34m=\u001b[0m \u001b[0mos\u001b[0m\u001b[0;34m.\u001b[0m\u001b[0mlistdir\u001b[0m\u001b[0;34m(\u001b[0m\u001b[0;34mb'.'\u001b[0m\u001b[0;34m)\u001b[0m\u001b[0;34m[\u001b[0m\u001b[0;36m1\u001b[0m\u001b[0;34m]\u001b[0m\u001b[0;34m\u001b[0m\u001b[0;34m\u001b[0m\u001b[0m\n",
            "\u001b[0;31mFileNotFoundError\u001b[0m: [Errno 2] No such file or directory: './fluent_python'"
          ]
        }
      ]
    }
  ]
}